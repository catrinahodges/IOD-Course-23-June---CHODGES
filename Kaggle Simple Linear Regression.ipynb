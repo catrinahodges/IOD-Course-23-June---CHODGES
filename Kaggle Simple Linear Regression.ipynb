{
 "cells": [
  {
   "cell_type": "code",
   "execution_count": 1,
   "metadata": {},
   "outputs": [],
   "source": [
    "import numpy as np\n",
    "import pandas as pd\n",
    "import matplotlib.pyplot as plt\n",
    "from sklearn.model_selection import train_test_split\n",
    "import statistics\n"
   ]
  },
  {
   "cell_type": "code",
   "execution_count": 2,
   "metadata": {},
   "outputs": [],
   "source": [
    "insurance= pd.read_csv(r\"C:/Users/Travel Your Style/Documents/IOD Course 22 June 20/DATA/Insurance.csv\", skiprows=list(range(0,5)),\n",
    "                      header=None,\n",
    "                      names=['Claims','Total_Payment'])"
   ]
  },
  {
   "cell_type": "code",
   "execution_count": 3,
   "metadata": {},
   "outputs": [
    {
     "data": {
      "text/html": [
       "<div>\n",
       "<style scoped>\n",
       "    .dataframe tbody tr th:only-of-type {\n",
       "        vertical-align: middle;\n",
       "    }\n",
       "\n",
       "    .dataframe tbody tr th {\n",
       "        vertical-align: top;\n",
       "    }\n",
       "\n",
       "    .dataframe thead th {\n",
       "        text-align: right;\n",
       "    }\n",
       "</style>\n",
       "<table border=\"1\" class=\"dataframe\">\n",
       "  <thead>\n",
       "    <tr style=\"text-align: right;\">\n",
       "      <th></th>\n",
       "      <th>Claims</th>\n",
       "      <th>Total_Payment</th>\n",
       "    </tr>\n",
       "  </thead>\n",
       "  <tbody>\n",
       "    <tr>\n",
       "      <th>0</th>\n",
       "      <td>108</td>\n",
       "      <td>392.5</td>\n",
       "    </tr>\n",
       "    <tr>\n",
       "      <th>1</th>\n",
       "      <td>19</td>\n",
       "      <td>46.2</td>\n",
       "    </tr>\n",
       "    <tr>\n",
       "      <th>2</th>\n",
       "      <td>13</td>\n",
       "      <td>15.7</td>\n",
       "    </tr>\n",
       "    <tr>\n",
       "      <th>3</th>\n",
       "      <td>124</td>\n",
       "      <td>422.2</td>\n",
       "    </tr>\n",
       "    <tr>\n",
       "      <th>4</th>\n",
       "      <td>40</td>\n",
       "      <td>119.4</td>\n",
       "    </tr>\n",
       "  </tbody>\n",
       "</table>\n",
       "</div>"
      ],
      "text/plain": [
       "   Claims  Total_Payment\n",
       "0     108          392.5\n",
       "1      19           46.2\n",
       "2      13           15.7\n",
       "3     124          422.2\n",
       "4      40          119.4"
      ]
     },
     "execution_count": 3,
     "metadata": {},
     "output_type": "execute_result"
    }
   ],
   "source": [
    "insurance.head()"
   ]
  },
  {
   "cell_type": "code",
   "execution_count": 4,
   "metadata": {},
   "outputs": [
    {
     "data": {
      "text/plain": [
       "(63, 2)"
      ]
     },
     "execution_count": 4,
     "metadata": {},
     "output_type": "execute_result"
    }
   ],
   "source": [
    "insurance.shape"
   ]
  },
  {
   "cell_type": "code",
   "execution_count": 5,
   "metadata": {},
   "outputs": [
    {
     "data": {
      "text/plain": [
       "Text(0.5, 1.0, 'Auto Insurance in Sweden')"
      ]
     },
     "execution_count": 5,
     "metadata": {},
     "output_type": "execute_result"
    },
    {
     "data": {
      "image/png": "[encoded data removed]",
      "text/plain": [
       "<Figure size 432x288 with 1 Axes>"
      ]
     },
     "metadata": {
      "needs_background": "light"
     },
     "output_type": "display_data"
    }
   ],
   "source": [
    "plt.scatter(insurance[\"Claims\"], insurance[\"Total_Payment\"])\n",
    "plt.xlabel(\"Insurance Claims\")\n",
    "plt.ylabel(\"Total Payment\")\n",
    "plt.title(\"Auto Insurance in Sweden\")"
   ]
  },
  {
   "cell_type": "code",
   "execution_count": 6,
   "metadata": {},
   "outputs": [
    {
     "data": {
      "text/html": [
       "<div>\n",
       "<style scoped>\n",
       "    .dataframe tbody tr th:only-of-type {\n",
       "        vertical-align: middle;\n",
       "    }\n",
       "\n",
       "    .dataframe tbody tr th {\n",
       "        vertical-align: top;\n",
       "    }\n",
       "\n",
       "    .dataframe thead th {\n",
       "        text-align: right;\n",
       "    }\n",
       "</style>\n",
       "<table border=\"1\" class=\"dataframe\">\n",
       "  <thead>\n",
       "    <tr style=\"text-align: right;\">\n",
       "      <th></th>\n",
       "      <th>Claims</th>\n",
       "      <th>Total_Payment</th>\n",
       "    </tr>\n",
       "  </thead>\n",
       "  <tbody>\n",
       "    <tr>\n",
       "      <th>Claims</th>\n",
       "      <td>1.000000</td>\n",
       "      <td>0.912878</td>\n",
       "    </tr>\n",
       "    <tr>\n",
       "      <th>Total_Payment</th>\n",
       "      <td>0.912878</td>\n",
       "      <td>1.000000</td>\n",
       "    </tr>\n",
       "  </tbody>\n",
       "</table>\n",
       "</div>"
      ],
      "text/plain": [
       "                 Claims  Total_Payment\n",
       "Claims         1.000000       0.912878\n",
       "Total_Payment  0.912878       1.000000"
      ]
     },
     "execution_count": 6,
     "metadata": {},
     "output_type": "execute_result"
    }
   ],
   "source": [
    "#looks strong correlation\n",
    "insurance.corr()"
   ]
  },
  {
   "cell_type": "code",
   "execution_count": null,
   "metadata": {},
   "outputs": [],
   "source": []
  },
  {
   "cell_type": "code",
   "execution_count": 8,
   "metadata": {},
   "outputs": [],
   "source": [
    "#define x & y\n",
    "X= insurance[\"Claims\"]\n",
    "Y=insurance[\"Total_Payment\"]"
   ]
  },
  {
   "cell_type": "code",
   "execution_count": 9,
   "metadata": {},
   "outputs": [],
   "source": [
    "X_train, X_test, Y_train, Y_test = train_test_split(\n",
    "...     X,Y, test_size=0.20, random_state=42)"
   ]
  },
  {
   "cell_type": "code",
   "execution_count": 10,
   "metadata": {},
   "outputs": [],
   "source": [
    "x=X_train\n",
    "y=Y_train"
   ]
  },
  {
   "cell_type": "code",
   "execution_count": 11,
   "metadata": {},
   "outputs": [],
   "source": [
    "#calculate mean of Claims (x)\n",
    "def mean(x):\n",
    "    return sum(x)/ float(len(x))"
   ]
  },
  {
   "cell_type": "code",
   "execution_count": 12,
   "metadata": {},
   "outputs": [
    {
     "name": "stdout",
     "output_type": "stream",
     "text": [
      "19.9\n"
     ]
    }
   ],
   "source": [
    "print(mean(x))"
   ]
  },
  {
   "cell_type": "code",
   "execution_count": 112,
   "metadata": {},
   "outputs": [
    {
     "name": "stdout",
     "output_type": "stream",
     "text": [
      "19.9\n"
     ]
    }
   ],
   "source": [
    "mean_x=np.mean(x)\n",
    "print(mean_x)"
   ]
  },
  {
   "cell_type": "code",
   "execution_count": 99,
   "metadata": {},
   "outputs": [
    {
     "name": "stdout",
     "output_type": "stream",
     "text": [
      "84.99199999999999\n"
     ]
    }
   ],
   "source": [
    "def mean(y):\n",
    "    return sum(y)/ float(len(y))\n",
    "\n",
    "print(mean(y))"
   ]
  },
  {
   "cell_type": "code",
   "execution_count": 113,
   "metadata": {},
   "outputs": [
    {
     "name": "stdout",
     "output_type": "stream",
     "text": [
      "84.992\n"
     ]
    }
   ],
   "source": [
    "mean_y=np.mean(y)\n",
    "print(mean_y)"
   ]
  },
  {
   "cell_type": "code",
   "execution_count": 14,
   "metadata": {},
   "outputs": [
    {
     "name": "stdout",
     "output_type": "stream",
     "text": [
      "<function variance at 0x00000209D9A061F8>\n"
     ]
    }
   ],
   "source": [
    "#The variance is the sum squared difference for each value from the mean value.\n",
    "#Variance for a list of numbers can be calculated as:\n",
    "\t\n",
    "#variance = sum( (x - mean(x))**2 )\n",
    "def variance (values, mean):\n",
    "\treturn sum([(x - mean)**2 for x in values])\n",
    "print(variance)"
   ]
  },
  {
   "cell_type": "code",
   "execution_count": 13,
   "metadata": {},
   "outputs": [
    {
     "data": {
      "text/plain": [
       "21620.5"
      ]
     },
     "execution_count": 13,
     "metadata": {},
     "output_type": "execute_result"
    }
   ],
   "source": [
    "var_x=sum((x-mean(x))**2)\n",
    "var_x"
   ]
  },
  {
   "cell_type": "code",
   "execution_count": 15,
   "metadata": {},
   "outputs": [
    {
     "name": "stdout",
     "output_type": "stream",
     "text": [
      "<function variance at 0x00000209D9A06558>\n"
     ]
    }
   ],
   "source": [
    "def variance(values, mean):\n",
    "\treturn sum([(y-mean)**2 for y in values])\n",
    "print(variance)"
   ]
  },
  {
   "cell_type": "code",
   "execution_count": 19,
   "metadata": {},
   "outputs": [],
   "source": [
    "mean_x, mean_y=mean(x),mean(y)"
   ]
  },
  {
   "cell_type": "code",
   "execution_count": 20,
   "metadata": {},
   "outputs": [
    {
     "name": "stdout",
     "output_type": "stream",
     "text": [
      "432.41\n"
     ]
    }
   ],
   "source": [
    "#Variance x\n",
    "var_x=np.var(x)\n",
    "print(var_x)"
   ]
  },
  {
   "cell_type": "code",
   "execution_count": 21,
   "metadata": {},
   "outputs": [
    {
     "name": "stdout",
     "output_type": "stream",
     "text": [
      "6444.106336000001\n"
     ]
    }
   ],
   "source": [
    "#Variance y\n",
    "var_y=np.var(y)\n",
    "print(var_y)"
   ]
  },
  {
   "cell_type": "code",
   "execution_count": 22,
   "metadata": {},
   "outputs": [],
   "source": [
    "var_x, var_y = variance(x, mean_x), variance(y, mean_y)"
   ]
  },
  {
   "cell_type": "code",
   "execution_count": 23,
   "metadata": {},
   "outputs": [
    {
     "name": "stdout",
     "output_type": "stream",
     "text": [
      "x stats: mean=19.900 variance=21620.500\n",
      "y stats: mean=84.992 variance=322205.317\n"
     ]
    }
   ],
   "source": [
    "print('x stats: mean=%.3f variance=%.3f' % (mean_x, var_x))\n",
    "print('y stats: mean=%.3f variance=%.3f' % (mean_y, var_y))"
   ]
  },
  {
   "cell_type": "code",
   "execution_count": 24,
   "metadata": {},
   "outputs": [
    {
     "name": "stdout",
     "output_type": "stream",
     "text": [
      "[[ 137.78  1157.85   306.27  ...  173.47   664.      71.38 ]\n",
      " [1157.85  9730.125 2573.775 ... 1457.775 5580.     599.85 ]\n",
      " [ 306.27  2573.775  680.805 ...  385.605 1476.     158.67 ]\n",
      " ...\n",
      " [ 173.47  1457.775  385.605 ...  218.405  836.      89.87 ]\n",
      " [ 664.    5580.    1476.    ...  836.    3200.     344.   ]\n",
      " [  71.38   599.85   158.67  ...   89.87   344.      36.98 ]]\n"
     ]
    }
   ],
   "source": [
    "# Calculate covariance between x and y\n",
    "#def covariance(x, mean_x, y, mean_y):\n",
    "#\tcovar = 0.0\n",
    "#\tfor i in range(len(x)):\n",
    "#\t\tcovar += (x[i] - mean_x) * (y[i] - mean_y)\n",
    "#\treturn covar\n",
    "#cacluate covariance\n",
    "#covar = covariance(x, mean_x, y, mean_y)\n",
    "#print('Covariance: %.3f' % (covar))\n",
    "\n",
    "#covar=np.cov(x, mean_x, y, mean_y)\n",
    "\n",
    "cov_mat = np.stack((x, y), axis = 1) \n",
    "print(np.cov(cov_mat)) "
   ]
  },
  {
   "cell_type": "code",
   "execution_count": 28,
   "metadata": {},
   "outputs": [
    {
     "name": "stdout",
     "output_type": "stream",
     "text": [
      "<function covariance at 0x00000209D9A061F8>\n"
     ]
    }
   ],
   "source": [
    "#covariance = sum((x(i) - mean(x)) * (y(i) - mean(y)))\n",
    "#Caclulate Covariance\n",
    "\n",
    "# Calculate covariance between x and y\n",
    "def covariance(x, mean_x, y, mean_y):\n",
    "\tcovar = 0.0\n",
    "\tfor i in range(len(x)):\n",
    "\t\tcovar += (x[i] - mean_x) * (y[i] - mean_y)\n",
    "\treturn covar\n",
    "print(covariance)\n",
    "\n",
    "\n",
    "\n",
    "#Covariance = np.cov(x, y, bias=True)[0][1]\n",
    "#print(Covariance)"
   ]
  },
  {
   "cell_type": "code",
   "execution_count": 30,
   "metadata": {},
   "outputs": [
    {
     "name": "stdout",
     "output_type": "stream",
     "text": [
      "1482.8351999999995\n"
     ]
    }
   ],
   "source": [
    "Covariance = np.cov(x, y, bias=True)[0][1]\n",
    "print(Covariance)"
   ]
  },
  {
   "cell_type": "code",
   "execution_count": 31,
   "metadata": {},
   "outputs": [],
   "source": [
    "#calculate coefficients\n",
    "# Calculate coefficients\n",
    "def coefficients(insurance):\n",
    "\tx = [row[0] for row in insurance]\n",
    "\ty = [row[1] for row in insurance]\n",
    "\tx_mean, y_mean = mean(x), mean(y)\n",
    "\tb1 = covariance(x, x_mean, y, y_mean) / variance(x, x_mean)\n",
    "\tb0 = y_mean - b1 * x_mean\n",
    "\treturn [b0, b1]\n",
    "\n"
   ]
  },
  {
   "cell_type": "code",
   "execution_count": 78,
   "metadata": {},
   "outputs": [
    {
     "name": "stdout",
     "output_type": "stream",
     "text": [
      "19.99448575911481 3.4138235600663664\n"
     ]
    }
   ],
   "source": [
    "print(b0,b1)"
   ]
  },
  {
   "cell_type": "code",
   "execution_count": 32,
   "metadata": {},
   "outputs": [],
   "source": [
    "from sklearn.linear_model import LinearRegression"
   ]
  },
  {
   "cell_type": "code",
   "execution_count": 33,
   "metadata": {},
   "outputs": [],
   "source": [
    "linreg=LinearRegression()"
   ]
  },
  {
   "cell_type": "code",
   "execution_count": null,
   "metadata": {},
   "outputs": [],
   "source": []
  }
 ],
 "metadata": {
  "kernelspec": {
   "display_name": "Python 3",
   "language": "python",
   "name": "python3"
  },
  "language_info": {
   "codemirror_mode": {
    "name": "ipython",
    "version": 3
   },
   "file_extension": ".py",
   "mimetype": "text/x-python",
   "name": "python",
   "nbconvert_exporter": "python",
   "pygments_lexer": "ipython3",
   "version": "3.7.7"
  }
 },
 "nbformat": 4,
 "nbformat_minor": 4
}
